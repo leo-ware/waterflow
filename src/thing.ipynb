{
 "cells": [
  {
   "cell_type": "code",
   "execution_count": 1,
   "metadata": {},
   "outputs": [],
   "source": [
    "import elevation"
   ]
  },
  {
   "cell_type": "code",
   "execution_count": 2,
   "metadata": {},
   "outputs": [
    {
     "name": "stdout",
     "output_type": "stream",
     "text": [
      "curl -s -o spool/N41/N41E012.hgt.gz.temp https://s3.amazonaws.com/elevation-tiles-prod/skadi/N41/N41E012.hgt.gz && mv spool/N41/N41E012.hgt.gz.temp spool/N41/N41E012.hgt.gz\n",
      "gunzip spool/N41/N41E012.hgt.gz 2>/dev/null || touch spool/N41/N41E012.hgt\n",
      "gdal_translate -q -co TILED=YES -co COMPRESS=DEFLATE -co ZLEVEL=9 -co PREDICTOR=2 spool/N41/N41E012.hgt cache/N41/N41E012.tif 2>/dev/null || touch cache/N41/N41E012.tif\n",
      "rm spool/N41/N41E012.hgt\n",
      "gdalbuildvrt -q -overwrite SRTM1.vrt cache/N41/N41E012.tif\n",
      "cp SRTM1.vrt SRTM1.7a3e719e253a403bba5f1ce9c05691a3.vrt\n",
      "gdal_translate -q -co TILED=YES -co COMPRESS=DEFLATE -co ZLEVEL=9 -co PREDICTOR=2 -projwin 12.35 42.0 12.65 41.8 SRTM1.7a3e719e253a403bba5f1ce9c05691a3.vrt Rome-DEM.tif\n",
      "rm -f SRTM1.7a3e719e253a403bba5f1ce9c05691a3.vrt\n"
     ]
    }
   ],
   "source": [
    "elevation.clip(bounds=(12.35, 41.8, 12.65, 42), output='Rome-DEM.tif')"
   ]
  },
  {
   "cell_type": "code",
   "execution_count": null,
   "metadata": {},
   "outputs": [],
   "source": []
  }
 ],
 "metadata": {
  "interpreter": {
   "hash": "399c43c6712981fe0e1468cc899480e212ac70a503ef3606e02dbc4cfa086562"
  },
  "kernelspec": {
   "display_name": "Python 3.10.0 64-bit ('venv': venv)",
   "language": "python",
   "name": "python3"
  },
  "language_info": {
   "codemirror_mode": {
    "name": "ipython",
    "version": 3
   },
   "file_extension": ".py",
   "mimetype": "text/x-python",
   "name": "python",
   "nbconvert_exporter": "python",
   "pygments_lexer": "ipython3",
   "version": "3.10.0"
  },
  "orig_nbformat": 4
 },
 "nbformat": 4,
 "nbformat_minor": 2
}
