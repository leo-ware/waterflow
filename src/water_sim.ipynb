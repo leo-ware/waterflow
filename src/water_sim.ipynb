{
 "cells": [
  {
   "cell_type": "code",
   "execution_count": 48,
   "metadata": {},
   "outputs": [],
   "source": [
    "import jax\n",
    "import jax.numpy as jnp\n",
    "import numpy as np\n",
    "import matplotlib.pyplot as plt"
   ]
  },
  {
   "cell_type": "code",
   "execution_count": 39,
   "metadata": {},
   "outputs": [],
   "source": [
    "@jax.jit\n",
    "def balance(n_units, bins):\n",
    "    # useful static values\n",
    "    zero = jnp.zeros(1)\n",
    "    index = jnp.arange(len(bins))\n",
    "\n",
    "    # some info\n",
    "    depth_diff = jnp.diff(bins)\n",
    "    bin_bottom_level = jnp.concatenate([zero, jnp.cumsum(-depth_diff)])\n",
    "    volume_for_bottom_bin = jnp.cumsum(jnp.concatenate([zero, -depth_diff]) * index)\n",
    "\n",
    "    # distribute the water\n",
    "    idx_of_last_filled_bin = jnp.searchsorted(volume_for_bottom_bin, n_units) - 1\n",
    "    levels = bin_bottom_level[idx_of_last_filled_bin] - bin_bottom_level\n",
    "    remainder = n_units - volume_for_bottom_bin[idx_of_last_filled_bin]\n",
    "    levels = levels + (remainder / (idx_of_last_filled_bin + 1))\n",
    "    levels = jnp.where(index <= idx_of_last_filled_bin, levels, 0)\n",
    "    \n",
    "    return levels\n",
    "\n",
    "@jax.jit\n",
    "def balance_arr(arr):\n",
    "    n_units = arr[0]\n",
    "    bins = jnp.max(arr[1:]) - arr[1:]\n",
    "    return balance(n_units, bins)\n",
    "\n",
    "v_balance = jax.vmap(balance_arr)"
   ]
  },
  {
   "cell_type": "code",
   "execution_count": 40,
   "metadata": {},
   "outputs": [],
   "source": [
    "def get_neighbors(grid):\n",
    "    grid = np.pad(grid, 1, mode=\"edge\")\n",
    "    neighbors = np.zeros(grid.shape + (3, 3))\n",
    "    for i in [0, 1, 2]:\n",
    "        for j in [0, 1, 2]:\n",
    "            neighbors[:, :, i, j] = np.roll(grid, (1 - i, 1 - j), axis=(0, 1))\n",
    "    return neighbors[1:-1, 1:-1, :, :]\n",
    "\n",
    "def sum_neighbor_grid(neighbor_grid):\n",
    "    pad_width = [(1, 1), (1, 1), (0, 0), (0, 0)]\n",
    "    padded_vmd = np.pad(neighbor_grid, pad_width, constant_values=0)\n",
    "\n",
    "    acc = np.zeros(padded_vmd.shape[:2])\n",
    "    for i in [-1, 0, 1]:\n",
    "        for j in [-1, 0, 1]:\n",
    "            offset = np.roll(padded_vmd, (i, j), (0, 1))[:, :, i + 1, j + 1]\n",
    "            acc = offset + acc\n",
    "\n",
    "    return acc[1:-1, 1:-1]"
   ]
  },
  {
   "cell_type": "code",
   "execution_count": 41,
   "metadata": {},
   "outputs": [],
   "source": [
    "def flatten_sort(neighbor_grid):\n",
    "    flat = neighbor_grid.reshape((-1, 9))\n",
    "    sort_indices = np.argsort(flat, axis=1)\n",
    "    sorted_flat = np.take_along_axis(flat, sort_indices, axis=1)\n",
    "    return sorted_flat, sort_indices\n",
    "\n",
    "def unflatten_unsort(sorted_flat, sort_indices):\n",
    "    unsort_indeces = np.argsort(sort_indices, axis=-1)\n",
    "    unsort = np.take_along_axis(sorted_flat, unsort_indeces, axis=1)\n",
    "    n = int(sorted_flat.shape[0]**0.5)\n",
    "    unflatten = unsort.reshape((n, n, 3, 3))\n",
    "    return unflatten"
   ]
  },
  {
   "cell_type": "code",
   "execution_count": 43,
   "metadata": {},
   "outputs": [],
   "source": [
    "def step(ground, water):\n",
    "    neighbors = get_neighbors(ground + water)\n",
    "    neighbors[:, :, 1, 1] = ground\n",
    "    flat, sort_indices = flatten_sort(neighbors)\n",
    "    water_flat = water.reshape((-1, 1))\n",
    "\n",
    "    stacked = np.hstack([water_flat, flat])\n",
    "    balanced = np.array(v_balance(stacked))\n",
    "    unsorted_balanced = unflatten_unsort(balanced, sort_indices)\n",
    "\n",
    "    return sum_neighbor_grid(unsorted_balanced)"
   ]
  },
  {
   "cell_type": "code",
   "execution_count": 52,
   "metadata": {},
   "outputs": [
    {
     "data": {
      "image/png": "[encoded data removed]",
      "text/plain": [
       "<Figure size 432x288 with 1 Axes>"
      ]
     },
     "metadata": {
      "needs_background": "light"
     },
     "output_type": "display_data"
    },
    {
     "data": {
      "image/png": "[encoded data removed]",
      "text/plain": [
       "<Figure size 432x288 with 1 Axes>"
      ]
     },
     "metadata": {
      "needs_background": "light"
     },
     "output_type": "display_data"
    },
    {
     "data": {
      "image/png": "[encoded data removed]",
      "text/plain": [
       "<Figure size 432x288 with 1 Axes>"
      ]
     },
     "metadata": {
      "needs_background": "light"
     },
     "output_type": "display_data"
    },
    {
     "data": {
      "image/png": "[encoded data removed]",
      "text/plain": [
       "<Figure size 432x288 with 1 Axes>"
      ]
     },
     "metadata": {
      "needs_background": "light"
     },
     "output_type": "display_data"
    },
    {
     "data": {
      "image/png": "[encoded data removed]",
      "text/plain": [
       "<Figure size 432x288 with 1 Axes>"
      ]
     },
     "metadata": {
      "needs_background": "light"
     },
     "output_type": "display_data"
    },
    {
     "data": {
      "image/png": "[encoded data removed]",
      "text/plain": [
       "<Figure size 432x288 with 1 Axes>"
      ]
     },
     "metadata": {
      "needs_background": "light"
     },
     "output_type": "display_data"
    }
   ],
   "source": [
    "water = np.array([\n",
    "    [0, 0, 0, 0, 0],\n",
    "    [0, 0, 0, 0, 0],\n",
    "    [0, 0, 1, 0, 0],\n",
    "    [0, 0, 0, 0, 0],\n",
    "    [0, 0, 0, 0, 0],\n",
    "])\n",
    "\n",
    "ground = np.zeros([5, 5])\n",
    "\n",
    "plt.imshow(water, vmin=0, vmax=1)\n",
    "plt.show()\n",
    "\n",
    "for _ in range(5):\n",
    "    water = step(ground, water)\n",
    "    plt.imshow(water, vmin=0, vmax=1)\n",
    "    plt.show()"
   ]
  },
  {
   "cell_type": "code",
   "execution_count": null,
   "metadata": {},
   "outputs": [],
   "source": []
  }
 ],
 "metadata": {
  "interpreter": {
   "hash": "399c43c6712981fe0e1468cc899480e212ac70a503ef3606e02dbc4cfa086562"
  },
  "kernelspec": {
   "display_name": "Python 3.10.0 64-bit ('venv': venv)",
   "language": "python",
   "name": "python3"
  },
  "language_info": {
   "codemirror_mode": {
    "name": "ipython",
    "version": 3
   },
   "file_extension": ".py",
   "mimetype": "text/x-python",
   "name": "python",
   "nbconvert_exporter": "python",
   "pygments_lexer": "ipython3",
   "version": "3.10.0"
  },
  "orig_nbformat": 4
 },
 "nbformat": 4,
 "nbformat_minor": 2
}
